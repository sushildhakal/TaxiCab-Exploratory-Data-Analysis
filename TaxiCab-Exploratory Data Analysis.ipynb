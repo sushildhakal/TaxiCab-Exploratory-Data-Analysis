{
 "cells": [
  {
   "cell_type": "code",
   "execution_count": 1,
   "id": "1a52ad72",
   "metadata": {},
   "outputs": [],
   "source": [
    "# Importing basic Libraries"
   ]
  },
  {
   "cell_type": "code",
   "execution_count": 2,
   "id": "def41db0",
   "metadata": {},
   "outputs": [],
   "source": [
    "import numpy as np\n",
    "import pandas as pd\n",
    "import streamlit as st\n",
    "import seaborn as sns\n",
    "import matplotlib.pyplot as plt\n",
    "import datetime as dt\n",
    "%matplotlib inline\n",
    "import json\n",
    "from geopy.distance import great_circle\n",
    "from geopy.geocoders import Nominatim\n",
    "#for calculating Disstance \n",
    "plt.switch_backend('TkAgg')\n",
    "import os\n",
    "#import warnings\n",
    "#warnings.filterwarnings('ignore')\n",
    "#sns.set()\n"
   ]
  },
  {
   "cell_type": "code",
   "execution_count": 3,
   "id": "82840fd2",
   "metadata": {},
   "outputs": [],
   "source": [
    "# load CSV file into memory\n"
   ]
  },
  {
   "cell_type": "code",
   "execution_count": 4,
   "id": "2cd2c64a",
   "metadata": {
    "scrolled": true
   },
   "outputs": [
    {
     "name": "stderr",
     "output_type": "stream",
     "text": [
      "C:\\Users\\sushd\\AppData\\Local\\Temp\\ipykernel_25168\\3242702269.py:1: DtypeWarning: Columns (6) have mixed types. Specify dtype option on import or set low_memory=False.\n",
      "  df = pd.read_csv('C:/Users/sushd/Desktop/data analytics course/da-taxi-tech-challenge-master/da-taxi-tech-challenge-master/raw_data/yellow_tripdata_2021-01_raw_updated.csv')\n"
     ]
    }
   ],
   "source": [
    "df = pd.read_csv('C:/Users/sushd/Desktop/data analytics course/da-taxi-tech-challenge-master/da-taxi-tech-challenge-master/raw_data/yellow_tripdata_2021-01_raw_updated.csv')"
   ]
  },
  {
   "cell_type": "code",
   "execution_count": 5,
   "id": "c29e43d5",
   "metadata": {},
   "outputs": [],
   "source": [
    "#load Json file"
   ]
  },
  {
   "cell_type": "code",
   "execution_count": 6,
   "id": "394ce1ae",
   "metadata": {},
   "outputs": [],
   "source": [
    "# Open the JSON file\n",
    "# Load surcharge data from JSON file\n",
    "# Open the JSON file\n",
    "with open('C:/Users/sushd/Desktop/data analytics course/da-taxi-tech-challenge-master/da-taxi-tech-challenge-master/raw_data/surcharge_data.json', 'r') as f:\n",
    "    surcharge_df =  pd.DataFrame(json.load(f))"
   ]
  },
  {
   "cell_type": "code",
   "execution_count": 7,
   "id": "32224c6e",
   "metadata": {},
   "outputs": [
    {
     "data": {
      "text/html": [
       "<div>\n",
       "<style scoped>\n",
       "    .dataframe tbody tr th:only-of-type {\n",
       "        vertical-align: middle;\n",
       "    }\n",
       "\n",
       "    .dataframe tbody tr th {\n",
       "        vertical-align: top;\n",
       "    }\n",
       "\n",
       "    .dataframe thead th {\n",
       "        text-align: right;\n",
       "    }\n",
       "</style>\n",
       "<table border=\"1\" class=\"dataframe\">\n",
       "  <thead>\n",
       "    <tr style=\"text-align: right;\">\n",
       "      <th></th>\n",
       "      <th>559893529209</th>\n",
       "      <th>993405808080</th>\n",
       "      <th>267031741304</th>\n",
       "      <th>355132875433</th>\n",
       "      <th>603494714228</th>\n",
       "      <th>796431455521</th>\n",
       "      <th>292429735915</th>\n",
       "      <th>723218812491</th>\n",
       "      <th>707163995392</th>\n",
       "      <th>762316622020</th>\n",
       "      <th>...</th>\n",
       "      <th>340606840492</th>\n",
       "      <th>727563688853</th>\n",
       "      <th>415155748717</th>\n",
       "      <th>206295159590</th>\n",
       "      <th>615323074645</th>\n",
       "      <th>204125243754</th>\n",
       "      <th>511527970247</th>\n",
       "      <th>795487851532</th>\n",
       "      <th>550977006601</th>\n",
       "      <th>244977907136</th>\n",
       "    </tr>\n",
       "  </thead>\n",
       "  <tbody>\n",
       "    <tr>\n",
       "      <th>improvement_surcharge</th>\n",
       "      <td>0.3</td>\n",
       "      <td>0.3</td>\n",
       "      <td>0.3</td>\n",
       "      <td>0.3</td>\n",
       "      <td>0.3</td>\n",
       "      <td>0.3</td>\n",
       "      <td>0.3</td>\n",
       "      <td>0.3</td>\n",
       "      <td>0.3</td>\n",
       "      <td>0.3</td>\n",
       "      <td>...</td>\n",
       "      <td>0.3</td>\n",
       "      <td>0.3</td>\n",
       "      <td>0.3</td>\n",
       "      <td>0.3</td>\n",
       "      <td>0.3</td>\n",
       "      <td>0.3</td>\n",
       "      <td>0.3</td>\n",
       "      <td>0.3</td>\n",
       "      <td>0.3</td>\n",
       "      <td>0.3</td>\n",
       "    </tr>\n",
       "    <tr>\n",
       "      <th>congestion_surcharge</th>\n",
       "      <td>2.5</td>\n",
       "      <td>0.0</td>\n",
       "      <td>0.0</td>\n",
       "      <td>0.0</td>\n",
       "      <td>2.5</td>\n",
       "      <td>2.5</td>\n",
       "      <td>0.0</td>\n",
       "      <td>2.5</td>\n",
       "      <td>0.0</td>\n",
       "      <td>2.5</td>\n",
       "      <td>...</td>\n",
       "      <td>2.5</td>\n",
       "      <td>0.0</td>\n",
       "      <td>0.0</td>\n",
       "      <td>2.5</td>\n",
       "      <td>2.5</td>\n",
       "      <td>0.0</td>\n",
       "      <td>0.0</td>\n",
       "      <td>0.0</td>\n",
       "      <td>0.0</td>\n",
       "      <td>0.0</td>\n",
       "    </tr>\n",
       "  </tbody>\n",
       "</table>\n",
       "<p>2 rows × 1369765 columns</p>\n",
       "</div>"
      ],
      "text/plain": [
       "                       559893529209  993405808080  267031741304  355132875433  \\\n",
       "improvement_surcharge           0.3           0.3           0.3           0.3   \n",
       "congestion_surcharge            2.5           0.0           0.0           0.0   \n",
       "\n",
       "                       603494714228  796431455521  292429735915  723218812491  \\\n",
       "improvement_surcharge           0.3           0.3           0.3           0.3   \n",
       "congestion_surcharge            2.5           2.5           0.0           2.5   \n",
       "\n",
       "                       707163995392  762316622020  ...  340606840492  \\\n",
       "improvement_surcharge           0.3           0.3  ...           0.3   \n",
       "congestion_surcharge            0.0           2.5  ...           2.5   \n",
       "\n",
       "                       727563688853  415155748717  206295159590  615323074645  \\\n",
       "improvement_surcharge           0.3           0.3           0.3           0.3   \n",
       "congestion_surcharge            0.0           0.0           2.5           2.5   \n",
       "\n",
       "                       204125243754  511527970247  795487851532  550977006601  \\\n",
       "improvement_surcharge           0.3           0.3           0.3           0.3   \n",
       "congestion_surcharge            0.0           0.0           0.0           0.0   \n",
       "\n",
       "                       244977907136  \n",
       "improvement_surcharge           0.3  \n",
       "congestion_surcharge            0.0  \n",
       "\n",
       "[2 rows x 1369765 columns]"
      ]
     },
     "execution_count": 7,
     "metadata": {},
     "output_type": "execute_result"
    }
   ],
   "source": [
    "surcharge_df.head()"
   ]
  },
  {
   "cell_type": "code",
   "execution_count": 8,
   "id": "8393e4ef",
   "metadata": {},
   "outputs": [],
   "source": [
    "surcharge_df = surcharge_df.transpose()"
   ]
  },
  {
   "cell_type": "code",
   "execution_count": 9,
   "id": "1ce45592",
   "metadata": {},
   "outputs": [
    {
     "data": {
      "text/html": [
       "<div>\n",
       "<style scoped>\n",
       "    .dataframe tbody tr th:only-of-type {\n",
       "        vertical-align: middle;\n",
       "    }\n",
       "\n",
       "    .dataframe tbody tr th {\n",
       "        vertical-align: top;\n",
       "    }\n",
       "\n",
       "    .dataframe thead th {\n",
       "        text-align: right;\n",
       "    }\n",
       "</style>\n",
       "<table border=\"1\" class=\"dataframe\">\n",
       "  <thead>\n",
       "    <tr style=\"text-align: right;\">\n",
       "      <th></th>\n",
       "      <th>improvement_surcharge</th>\n",
       "      <th>congestion_surcharge</th>\n",
       "    </tr>\n",
       "  </thead>\n",
       "  <tbody>\n",
       "    <tr>\n",
       "      <th>559893529209</th>\n",
       "      <td>0.3</td>\n",
       "      <td>2.5</td>\n",
       "    </tr>\n",
       "    <tr>\n",
       "      <th>993405808080</th>\n",
       "      <td>0.3</td>\n",
       "      <td>0.0</td>\n",
       "    </tr>\n",
       "    <tr>\n",
       "      <th>267031741304</th>\n",
       "      <td>0.3</td>\n",
       "      <td>0.0</td>\n",
       "    </tr>\n",
       "    <tr>\n",
       "      <th>355132875433</th>\n",
       "      <td>0.3</td>\n",
       "      <td>0.0</td>\n",
       "    </tr>\n",
       "    <tr>\n",
       "      <th>603494714228</th>\n",
       "      <td>0.3</td>\n",
       "      <td>2.5</td>\n",
       "    </tr>\n",
       "  </tbody>\n",
       "</table>\n",
       "</div>"
      ],
      "text/plain": [
       "              improvement_surcharge  congestion_surcharge\n",
       "559893529209                    0.3                   2.5\n",
       "993405808080                    0.3                   0.0\n",
       "267031741304                    0.3                   0.0\n",
       "355132875433                    0.3                   0.0\n",
       "603494714228                    0.3                   2.5"
      ]
     },
     "execution_count": 9,
     "metadata": {},
     "output_type": "execute_result"
    }
   ],
   "source": [
    "surcharge_df.head()"
   ]
  },
  {
   "cell_type": "code",
   "execution_count": 10,
   "id": "5306eb2d",
   "metadata": {},
   "outputs": [],
   "source": [
    "# Reset the index\n",
    "surcharge_df = surcharge_df.reset_index()\n",
    "\n",
    "# Rename the columns\n",
    "surcharge_df.columns = ['tripId', 'improvement_surcharge', 'congestion_surcharge']\n"
   ]
  },
  {
   "cell_type": "code",
   "execution_count": 11,
   "id": "46c00ce0",
   "metadata": {},
   "outputs": [
    {
     "data": {
      "text/html": [
       "<div>\n",
       "<style scoped>\n",
       "    .dataframe tbody tr th:only-of-type {\n",
       "        vertical-align: middle;\n",
       "    }\n",
       "\n",
       "    .dataframe tbody tr th {\n",
       "        vertical-align: top;\n",
       "    }\n",
       "\n",
       "    .dataframe thead th {\n",
       "        text-align: right;\n",
       "    }\n",
       "</style>\n",
       "<table border=\"1\" class=\"dataframe\">\n",
       "  <thead>\n",
       "    <tr style=\"text-align: right;\">\n",
       "      <th></th>\n",
       "      <th>tripId</th>\n",
       "      <th>improvement_surcharge</th>\n",
       "      <th>congestion_surcharge</th>\n",
       "    </tr>\n",
       "  </thead>\n",
       "  <tbody>\n",
       "    <tr>\n",
       "      <th>0</th>\n",
       "      <td>559893529209</td>\n",
       "      <td>0.3</td>\n",
       "      <td>2.5</td>\n",
       "    </tr>\n",
       "    <tr>\n",
       "      <th>1</th>\n",
       "      <td>993405808080</td>\n",
       "      <td>0.3</td>\n",
       "      <td>0.0</td>\n",
       "    </tr>\n",
       "    <tr>\n",
       "      <th>2</th>\n",
       "      <td>267031741304</td>\n",
       "      <td>0.3</td>\n",
       "      <td>0.0</td>\n",
       "    </tr>\n",
       "    <tr>\n",
       "      <th>3</th>\n",
       "      <td>355132875433</td>\n",
       "      <td>0.3</td>\n",
       "      <td>0.0</td>\n",
       "    </tr>\n",
       "    <tr>\n",
       "      <th>4</th>\n",
       "      <td>603494714228</td>\n",
       "      <td>0.3</td>\n",
       "      <td>2.5</td>\n",
       "    </tr>\n",
       "  </tbody>\n",
       "</table>\n",
       "</div>"
      ],
      "text/plain": [
       "         tripId  improvement_surcharge  congestion_surcharge\n",
       "0  559893529209                    0.3                   2.5\n",
       "1  993405808080                    0.3                   0.0\n",
       "2  267031741304                    0.3                   0.0\n",
       "3  355132875433                    0.3                   0.0\n",
       "4  603494714228                    0.3                   2.5"
      ]
     },
     "execution_count": 11,
     "metadata": {},
     "output_type": "execute_result"
    }
   ],
   "source": [
    "surcharge_df.head()"
   ]
  },
  {
   "cell_type": "code",
   "execution_count": 12,
   "id": "0f3dd65b",
   "metadata": {},
   "outputs": [],
   "source": [
    "surcharge_df['tripId'] = surcharge_df['tripId'].astype('Int64')"
   ]
  },
  {
   "cell_type": "code",
   "execution_count": 13,
   "id": "10df83ff",
   "metadata": {},
   "outputs": [
    {
     "data": {
      "text/plain": [
       "tripId                     Int64\n",
       "improvement_surcharge    float64\n",
       "congestion_surcharge     float64\n",
       "dtype: object"
      ]
     },
     "execution_count": 13,
     "metadata": {},
     "output_type": "execute_result"
    }
   ],
   "source": [
    "surcharge_df.dtypes"
   ]
  },
  {
   "cell_type": "code",
   "execution_count": 14,
   "id": "0378d86b",
   "metadata": {},
   "outputs": [],
   "source": [
    "# checking the size of the csv file"
   ]
  },
  {
   "cell_type": "code",
   "execution_count": 15,
   "id": "bc9e8901",
   "metadata": {},
   "outputs": [
    {
     "data": {
      "text/plain": [
       "(1369765, 16)"
      ]
     },
     "execution_count": 15,
     "metadata": {},
     "output_type": "execute_result"
    }
   ],
   "source": [
    "df.shape"
   ]
  },
  {
   "cell_type": "code",
   "execution_count": 16,
   "id": "8ed9a94a",
   "metadata": {},
   "outputs": [],
   "source": [
    "# setting the Column 6 to low memory = False"
   ]
  },
  {
   "cell_type": "code",
   "execution_count": 17,
   "id": "9c66e03d",
   "metadata": {},
   "outputs": [],
   "source": [
    "df = pd.read_csv('C:/Users/sushd/Desktop/data analytics course/da-taxi-tech-challenge-master/da-taxi-tech-challenge-master/raw_data/yellow_tripdata_2021-01_raw_updated.csv', low_memory=False)\n"
   ]
  },
  {
   "cell_type": "code",
   "execution_count": 18,
   "id": "02e4524c",
   "metadata": {},
   "outputs": [],
   "source": [
    "# checking the data at the top of the file"
   ]
  },
  {
   "cell_type": "code",
   "execution_count": 19,
   "id": "e1ea35f4",
   "metadata": {},
   "outputs": [
    {
     "data": {
      "text/html": [
       "<div>\n",
       "<style scoped>\n",
       "    .dataframe tbody tr th:only-of-type {\n",
       "        vertical-align: middle;\n",
       "    }\n",
       "\n",
       "    .dataframe tbody tr th {\n",
       "        vertical-align: top;\n",
       "    }\n",
       "\n",
       "    .dataframe thead th {\n",
       "        text-align: right;\n",
       "    }\n",
       "</style>\n",
       "<table border=\"1\" class=\"dataframe\">\n",
       "  <thead>\n",
       "    <tr style=\"text-align: right;\">\n",
       "      <th></th>\n",
       "      <th>VendorID</th>\n",
       "      <th>tpep_pickup_datetime</th>\n",
       "      <th>tpep_dropoff_datetime</th>\n",
       "      <th>passenger_count</th>\n",
       "      <th>trip_distance</th>\n",
       "      <th>RatecodeID</th>\n",
       "      <th>store_and_fwd_flag</th>\n",
       "      <th>PULocationID</th>\n",
       "      <th>DOLocationID</th>\n",
       "      <th>payment_type</th>\n",
       "      <th>fare_amount</th>\n",
       "      <th>extra</th>\n",
       "      <th>mta_tax</th>\n",
       "      <th>tip_amount</th>\n",
       "      <th>tolls_amount</th>\n",
       "      <th>tripId</th>\n",
       "    </tr>\n",
       "  </thead>\n",
       "  <tbody>\n",
       "    <tr>\n",
       "      <th>0</th>\n",
       "      <td>1.0</td>\n",
       "      <td>2021-01-01 00:30:10</td>\n",
       "      <td>2021-01-01 00:36:12</td>\n",
       "      <td>1.0</td>\n",
       "      <td>2.1</td>\n",
       "      <td>1.0</td>\n",
       "      <td>N</td>\n",
       "      <td>142</td>\n",
       "      <td>43</td>\n",
       "      <td>2.0</td>\n",
       "      <td>8.0</td>\n",
       "      <td>3.0</td>\n",
       "      <td>0.5</td>\n",
       "      <td>0.00</td>\n",
       "      <td>0.0</td>\n",
       "      <td>559893529209</td>\n",
       "    </tr>\n",
       "    <tr>\n",
       "      <th>1</th>\n",
       "      <td>1.0</td>\n",
       "      <td>2021-01-01 00:51:20</td>\n",
       "      <td>2021-01-01 00:52:19</td>\n",
       "      <td>1.0</td>\n",
       "      <td>0.2</td>\n",
       "      <td>1.0</td>\n",
       "      <td>N</td>\n",
       "      <td>238</td>\n",
       "      <td>151</td>\n",
       "      <td>2.0</td>\n",
       "      <td>3.0</td>\n",
       "      <td>0.5</td>\n",
       "      <td>0.5</td>\n",
       "      <td>0.00</td>\n",
       "      <td>0.0</td>\n",
       "      <td>993405808080</td>\n",
       "    </tr>\n",
       "    <tr>\n",
       "      <th>2</th>\n",
       "      <td>1.0</td>\n",
       "      <td>2021-01-01 00:43:30</td>\n",
       "      <td>2021-01-01 01:11:06</td>\n",
       "      <td>1.0</td>\n",
       "      <td>14.7</td>\n",
       "      <td>1.0</td>\n",
       "      <td>N</td>\n",
       "      <td>132</td>\n",
       "      <td>165</td>\n",
       "      <td>1.0</td>\n",
       "      <td>42.0</td>\n",
       "      <td>0.5</td>\n",
       "      <td>0.5</td>\n",
       "      <td>8.65</td>\n",
       "      <td>0.0</td>\n",
       "      <td>267031741304</td>\n",
       "    </tr>\n",
       "    <tr>\n",
       "      <th>3</th>\n",
       "      <td>1.0</td>\n",
       "      <td>2021-01-01 00:15:48</td>\n",
       "      <td>2021-01-01 00:31:01</td>\n",
       "      <td>0.0</td>\n",
       "      <td>10.6</td>\n",
       "      <td>1.0</td>\n",
       "      <td>N</td>\n",
       "      <td>138</td>\n",
       "      <td>132</td>\n",
       "      <td>1.0</td>\n",
       "      <td>29.0</td>\n",
       "      <td>0.5</td>\n",
       "      <td>0.5</td>\n",
       "      <td>6.05</td>\n",
       "      <td>0.0</td>\n",
       "      <td>355132875433</td>\n",
       "    </tr>\n",
       "    <tr>\n",
       "      <th>4</th>\n",
       "      <td>2.0</td>\n",
       "      <td>2021-01-01 00:31:49</td>\n",
       "      <td>2021-01-01 00:48:21</td>\n",
       "      <td>1.0</td>\n",
       "      <td>4.94</td>\n",
       "      <td>1.0</td>\n",
       "      <td>N</td>\n",
       "      <td>68</td>\n",
       "      <td>33</td>\n",
       "      <td>1.0</td>\n",
       "      <td>16.5</td>\n",
       "      <td>0.5</td>\n",
       "      <td>0.5</td>\n",
       "      <td>4.06</td>\n",
       "      <td>0.0</td>\n",
       "      <td>603494714228</td>\n",
       "    </tr>\n",
       "  </tbody>\n",
       "</table>\n",
       "</div>"
      ],
      "text/plain": [
       "   VendorID tpep_pickup_datetime tpep_dropoff_datetime  passenger_count  \\\n",
       "0       1.0  2021-01-01 00:30:10   2021-01-01 00:36:12              1.0   \n",
       "1       1.0  2021-01-01 00:51:20   2021-01-01 00:52:19              1.0   \n",
       "2       1.0  2021-01-01 00:43:30   2021-01-01 01:11:06              1.0   \n",
       "3       1.0  2021-01-01 00:15:48   2021-01-01 00:31:01              0.0   \n",
       "4       2.0  2021-01-01 00:31:49   2021-01-01 00:48:21              1.0   \n",
       "\n",
       "  trip_distance  RatecodeID store_and_fwd_flag  PULocationID  DOLocationID  \\\n",
       "0           2.1         1.0                  N           142            43   \n",
       "1           0.2         1.0                  N           238           151   \n",
       "2          14.7         1.0                  N           132           165   \n",
       "3          10.6         1.0                  N           138           132   \n",
       "4          4.94         1.0                  N            68            33   \n",
       "\n",
       "   payment_type  fare_amount  extra  mta_tax  tip_amount  tolls_amount  \\\n",
       "0           2.0          8.0    3.0      0.5        0.00           0.0   \n",
       "1           2.0          3.0    0.5      0.5        0.00           0.0   \n",
       "2           1.0         42.0    0.5      0.5        8.65           0.0   \n",
       "3           1.0         29.0    0.5      0.5        6.05           0.0   \n",
       "4           1.0         16.5    0.5      0.5        4.06           0.0   \n",
       "\n",
       "         tripId  \n",
       "0  559893529209  \n",
       "1  993405808080  \n",
       "2  267031741304  \n",
       "3  355132875433  \n",
       "4  603494714228  "
      ]
     },
     "execution_count": 19,
     "metadata": {},
     "output_type": "execute_result"
    }
   ],
   "source": [
    "df.head()"
   ]
  },
  {
   "cell_type": "code",
   "execution_count": 20,
   "id": "0f5ac55e",
   "metadata": {},
   "outputs": [],
   "source": [
    "# checking the data at the tail of the file\n"
   ]
  },
  {
   "cell_type": "code",
   "execution_count": 21,
   "id": "9d8a9d34",
   "metadata": {},
   "outputs": [
    {
     "data": {
      "text/html": [
       "<div>\n",
       "<style scoped>\n",
       "    .dataframe tbody tr th:only-of-type {\n",
       "        vertical-align: middle;\n",
       "    }\n",
       "\n",
       "    .dataframe tbody tr th {\n",
       "        vertical-align: top;\n",
       "    }\n",
       "\n",
       "    .dataframe thead th {\n",
       "        text-align: right;\n",
       "    }\n",
       "</style>\n",
       "<table border=\"1\" class=\"dataframe\">\n",
       "  <thead>\n",
       "    <tr style=\"text-align: right;\">\n",
       "      <th></th>\n",
       "      <th>VendorID</th>\n",
       "      <th>tpep_pickup_datetime</th>\n",
       "      <th>tpep_dropoff_datetime</th>\n",
       "      <th>passenger_count</th>\n",
       "      <th>trip_distance</th>\n",
       "      <th>RatecodeID</th>\n",
       "      <th>store_and_fwd_flag</th>\n",
       "      <th>PULocationID</th>\n",
       "      <th>DOLocationID</th>\n",
       "      <th>payment_type</th>\n",
       "      <th>fare_amount</th>\n",
       "      <th>extra</th>\n",
       "      <th>mta_tax</th>\n",
       "      <th>tip_amount</th>\n",
       "      <th>tolls_amount</th>\n",
       "      <th>tripId</th>\n",
       "    </tr>\n",
       "  </thead>\n",
       "  <tbody>\n",
       "    <tr>\n",
       "      <th>1369760</th>\n",
       "      <td>5.0</td>\n",
       "      <td>2021-01-25 08:32:04</td>\n",
       "      <td>2021-01-25 08:49:32</td>\n",
       "      <td>NaN</td>\n",
       "      <td>8.8</td>\n",
       "      <td>NaN</td>\n",
       "      <td>NaN</td>\n",
       "      <td>135</td>\n",
       "      <td>82</td>\n",
       "      <td>6.0</td>\n",
       "      <td>21.84</td>\n",
       "      <td>2.75</td>\n",
       "      <td>0.5</td>\n",
       "      <td>0.0</td>\n",
       "      <td>0.0</td>\n",
       "      <td>204125243754</td>\n",
       "    </tr>\n",
       "    <tr>\n",
       "      <th>1369761</th>\n",
       "      <td>4.0</td>\n",
       "      <td>2021-01-25 08:34:00</td>\n",
       "      <td>2021-01-25 09:04:00</td>\n",
       "      <td>NaN</td>\n",
       "      <td>5.86</td>\n",
       "      <td>NaN</td>\n",
       "      <td>NaN</td>\n",
       "      <td>42</td>\n",
       "      <td>161</td>\n",
       "      <td>6.0</td>\n",
       "      <td>26.67</td>\n",
       "      <td>2.75</td>\n",
       "      <td>0.5</td>\n",
       "      <td>0.0</td>\n",
       "      <td>0.0</td>\n",
       "      <td>511527970247</td>\n",
       "    </tr>\n",
       "    <tr>\n",
       "      <th>1369762</th>\n",
       "      <td>5.0</td>\n",
       "      <td>2021-01-25 08:37:00</td>\n",
       "      <td>2021-01-25 08:53:00</td>\n",
       "      <td>NaN</td>\n",
       "      <td>4.45</td>\n",
       "      <td>NaN</td>\n",
       "      <td>NaN</td>\n",
       "      <td>14</td>\n",
       "      <td>106</td>\n",
       "      <td>5.0</td>\n",
       "      <td>25.29</td>\n",
       "      <td>2.75</td>\n",
       "      <td>0.5</td>\n",
       "      <td>0.0</td>\n",
       "      <td>0.0</td>\n",
       "      <td>795487851532</td>\n",
       "    </tr>\n",
       "    <tr>\n",
       "      <th>1369763</th>\n",
       "      <td>4.0</td>\n",
       "      <td>2021-01-25 08:28:00</td>\n",
       "      <td>2021-01-25 08:50:00</td>\n",
       "      <td>NaN</td>\n",
       "      <td>10.04</td>\n",
       "      <td>NaN</td>\n",
       "      <td>NaN</td>\n",
       "      <td>175</td>\n",
       "      <td>216</td>\n",
       "      <td>5.0</td>\n",
       "      <td>28.24</td>\n",
       "      <td>2.75</td>\n",
       "      <td>0.5</td>\n",
       "      <td>0.0</td>\n",
       "      <td>0.0</td>\n",
       "      <td>550977006601</td>\n",
       "    </tr>\n",
       "    <tr>\n",
       "      <th>1369764</th>\n",
       "      <td>5.0</td>\n",
       "      <td>2021-01-25 08:38:00</td>\n",
       "      <td>2021-01-25 08:50:00</td>\n",
       "      <td>NaN</td>\n",
       "      <td>4.93</td>\n",
       "      <td>NaN</td>\n",
       "      <td>NaN</td>\n",
       "      <td>248</td>\n",
       "      <td>168</td>\n",
       "      <td>5.0</td>\n",
       "      <td>20.76</td>\n",
       "      <td>2.75</td>\n",
       "      <td>0.5</td>\n",
       "      <td>0.0</td>\n",
       "      <td>0.0</td>\n",
       "      <td>244977907136</td>\n",
       "    </tr>\n",
       "  </tbody>\n",
       "</table>\n",
       "</div>"
      ],
      "text/plain": [
       "         VendorID tpep_pickup_datetime tpep_dropoff_datetime  passenger_count  \\\n",
       "1369760       5.0  2021-01-25 08:32:04   2021-01-25 08:49:32              NaN   \n",
       "1369761       4.0  2021-01-25 08:34:00   2021-01-25 09:04:00              NaN   \n",
       "1369762       5.0  2021-01-25 08:37:00   2021-01-25 08:53:00              NaN   \n",
       "1369763       4.0  2021-01-25 08:28:00   2021-01-25 08:50:00              NaN   \n",
       "1369764       5.0  2021-01-25 08:38:00   2021-01-25 08:50:00              NaN   \n",
       "\n",
       "        trip_distance  RatecodeID store_and_fwd_flag  PULocationID  \\\n",
       "1369760           8.8         NaN                NaN           135   \n",
       "1369761          5.86         NaN                NaN            42   \n",
       "1369762          4.45         NaN                NaN            14   \n",
       "1369763         10.04         NaN                NaN           175   \n",
       "1369764          4.93         NaN                NaN           248   \n",
       "\n",
       "         DOLocationID  payment_type  fare_amount  extra  mta_tax  tip_amount  \\\n",
       "1369760            82           6.0        21.84   2.75      0.5         0.0   \n",
       "1369761           161           6.0        26.67   2.75      0.5         0.0   \n",
       "1369762           106           5.0        25.29   2.75      0.5         0.0   \n",
       "1369763           216           5.0        28.24   2.75      0.5         0.0   \n",
       "1369764           168           5.0        20.76   2.75      0.5         0.0   \n",
       "\n",
       "         tolls_amount        tripId  \n",
       "1369760           0.0  204125243754  \n",
       "1369761           0.0  511527970247  \n",
       "1369762           0.0  795487851532  \n",
       "1369763           0.0  550977006601  \n",
       "1369764           0.0  244977907136  "
      ]
     },
     "execution_count": 21,
     "metadata": {},
     "output_type": "execute_result"
    }
   ],
   "source": [
    "df.tail()"
   ]
  },
  {
   "cell_type": "code",
   "execution_count": 22,
   "id": "8ed51024",
   "metadata": {},
   "outputs": [
    {
     "data": {
      "text/html": [
       "<div>\n",
       "<style scoped>\n",
       "    .dataframe tbody tr th:only-of-type {\n",
       "        vertical-align: middle;\n",
       "    }\n",
       "\n",
       "    .dataframe tbody tr th {\n",
       "        vertical-align: top;\n",
       "    }\n",
       "\n",
       "    .dataframe thead th {\n",
       "        text-align: right;\n",
       "    }\n",
       "</style>\n",
       "<table border=\"1\" class=\"dataframe\">\n",
       "  <thead>\n",
       "    <tr style=\"text-align: right;\">\n",
       "      <th></th>\n",
       "      <th>VendorID</th>\n",
       "      <th>passenger_count</th>\n",
       "      <th>RatecodeID</th>\n",
       "      <th>PULocationID</th>\n",
       "      <th>DOLocationID</th>\n",
       "      <th>payment_type</th>\n",
       "      <th>fare_amount</th>\n",
       "      <th>extra</th>\n",
       "      <th>mta_tax</th>\n",
       "      <th>tip_amount</th>\n",
       "      <th>tolls_amount</th>\n",
       "      <th>tripId</th>\n",
       "    </tr>\n",
       "  </thead>\n",
       "  <tbody>\n",
       "    <tr>\n",
       "      <th>count</th>\n",
       "      <td>1.369765e+06</td>\n",
       "      <td>1.271413e+06</td>\n",
       "      <td>1.271413e+06</td>\n",
       "      <td>1.369765e+06</td>\n",
       "      <td>1.369765e+06</td>\n",
       "      <td>1.369765e+06</td>\n",
       "      <td>1.369765e+06</td>\n",
       "      <td>1.369765e+06</td>\n",
       "      <td>1.369765e+06</td>\n",
       "      <td>1.369765e+06</td>\n",
       "      <td>1.369765e+06</td>\n",
       "      <td>1.369765e+06</td>\n",
       "    </tr>\n",
       "    <tr>\n",
       "      <th>mean</th>\n",
       "      <td>1.843999e+00</td>\n",
       "      <td>1.411508e+00</td>\n",
       "      <td>1.035081e+00</td>\n",
       "      <td>1.652472e+02</td>\n",
       "      <td>1.614956e+02</td>\n",
       "      <td>1.583443e+00</td>\n",
       "      <td>1.209662e+01</td>\n",
       "      <td>9.705085e-01</td>\n",
       "      <td>4.930411e-01</td>\n",
       "      <td>1.918099e+00</td>\n",
       "      <td>2.477432e-01</td>\n",
       "      <td>5.505093e+11</td>\n",
       "    </tr>\n",
       "    <tr>\n",
       "      <th>std</th>\n",
       "      <td>7.822027e-01</td>\n",
       "      <td>1.059833e+00</td>\n",
       "      <td>5.994840e-01</td>\n",
       "      <td>6.783849e+01</td>\n",
       "      <td>7.210800e+01</td>\n",
       "      <td>1.195230e+00</td>\n",
       "      <td>1.291338e+01</td>\n",
       "      <td>1.231256e+00</td>\n",
       "      <td>7.632070e-02</td>\n",
       "      <td>2.597153e+00</td>\n",
       "      <td>1.672755e+00</td>\n",
       "      <td>2.597719e+11</td>\n",
       "    </tr>\n",
       "    <tr>\n",
       "      <th>min</th>\n",
       "      <td>1.000000e+00</td>\n",
       "      <td>0.000000e+00</td>\n",
       "      <td>1.000000e+00</td>\n",
       "      <td>1.000000e+00</td>\n",
       "      <td>1.000000e+00</td>\n",
       "      <td>1.000000e+00</td>\n",
       "      <td>-4.900000e+02</td>\n",
       "      <td>-5.500000e+00</td>\n",
       "      <td>-5.000000e-01</td>\n",
       "      <td>-1.000000e+02</td>\n",
       "      <td>-3.112000e+01</td>\n",
       "      <td>1.000005e+11</td>\n",
       "    </tr>\n",
       "    <tr>\n",
       "      <th>25%</th>\n",
       "      <td>1.000000e+00</td>\n",
       "      <td>1.000000e+00</td>\n",
       "      <td>1.000000e+00</td>\n",
       "      <td>1.240000e+02</td>\n",
       "      <td>1.070000e+02</td>\n",
       "      <td>1.000000e+00</td>\n",
       "      <td>6.000000e+00</td>\n",
       "      <td>0.000000e+00</td>\n",
       "      <td>5.000000e-01</td>\n",
       "      <td>0.000000e+00</td>\n",
       "      <td>0.000000e+00</td>\n",
       "      <td>3.256927e+11</td>\n",
       "    </tr>\n",
       "    <tr>\n",
       "      <th>50%</th>\n",
       "      <td>2.000000e+00</td>\n",
       "      <td>1.000000e+00</td>\n",
       "      <td>1.000000e+00</td>\n",
       "      <td>1.620000e+02</td>\n",
       "      <td>1.620000e+02</td>\n",
       "      <td>1.000000e+00</td>\n",
       "      <td>8.500000e+00</td>\n",
       "      <td>0.000000e+00</td>\n",
       "      <td>5.000000e-01</td>\n",
       "      <td>1.860000e+00</td>\n",
       "      <td>0.000000e+00</td>\n",
       "      <td>5.506215e+11</td>\n",
       "    </tr>\n",
       "    <tr>\n",
       "      <th>75%</th>\n",
       "      <td>2.000000e+00</td>\n",
       "      <td>1.000000e+00</td>\n",
       "      <td>1.000000e+00</td>\n",
       "      <td>2.360000e+02</td>\n",
       "      <td>2.360000e+02</td>\n",
       "      <td>2.000000e+00</td>\n",
       "      <td>1.350000e+01</td>\n",
       "      <td>2.500000e+00</td>\n",
       "      <td>5.000000e-01</td>\n",
       "      <td>2.750000e+00</td>\n",
       "      <td>0.000000e+00</td>\n",
       "      <td>7.756135e+11</td>\n",
       "    </tr>\n",
       "    <tr>\n",
       "      <th>max</th>\n",
       "      <td>5.000000e+00</td>\n",
       "      <td>8.000000e+00</td>\n",
       "      <td>9.900000e+01</td>\n",
       "      <td>2.650000e+02</td>\n",
       "      <td>2.650000e+02</td>\n",
       "      <td>6.000000e+00</td>\n",
       "      <td>6.960500e+03</td>\n",
       "      <td>8.250000e+00</td>\n",
       "      <td>5.000000e-01</td>\n",
       "      <td>1.140440e+03</td>\n",
       "      <td>8.117500e+02</td>\n",
       "      <td>9.999999e+11</td>\n",
       "    </tr>\n",
       "  </tbody>\n",
       "</table>\n",
       "</div>"
      ],
      "text/plain": [
       "           VendorID  passenger_count    RatecodeID  PULocationID  \\\n",
       "count  1.369765e+06     1.271413e+06  1.271413e+06  1.369765e+06   \n",
       "mean   1.843999e+00     1.411508e+00  1.035081e+00  1.652472e+02   \n",
       "std    7.822027e-01     1.059833e+00  5.994840e-01  6.783849e+01   \n",
       "min    1.000000e+00     0.000000e+00  1.000000e+00  1.000000e+00   \n",
       "25%    1.000000e+00     1.000000e+00  1.000000e+00  1.240000e+02   \n",
       "50%    2.000000e+00     1.000000e+00  1.000000e+00  1.620000e+02   \n",
       "75%    2.000000e+00     1.000000e+00  1.000000e+00  2.360000e+02   \n",
       "max    5.000000e+00     8.000000e+00  9.900000e+01  2.650000e+02   \n",
       "\n",
       "       DOLocationID  payment_type   fare_amount         extra       mta_tax  \\\n",
       "count  1.369765e+06  1.369765e+06  1.369765e+06  1.369765e+06  1.369765e+06   \n",
       "mean   1.614956e+02  1.583443e+00  1.209662e+01  9.705085e-01  4.930411e-01   \n",
       "std    7.210800e+01  1.195230e+00  1.291338e+01  1.231256e+00  7.632070e-02   \n",
       "min    1.000000e+00  1.000000e+00 -4.900000e+02 -5.500000e+00 -5.000000e-01   \n",
       "25%    1.070000e+02  1.000000e+00  6.000000e+00  0.000000e+00  5.000000e-01   \n",
       "50%    1.620000e+02  1.000000e+00  8.500000e+00  0.000000e+00  5.000000e-01   \n",
       "75%    2.360000e+02  2.000000e+00  1.350000e+01  2.500000e+00  5.000000e-01   \n",
       "max    2.650000e+02  6.000000e+00  6.960500e+03  8.250000e+00  5.000000e-01   \n",
       "\n",
       "         tip_amount  tolls_amount        tripId  \n",
       "count  1.369765e+06  1.369765e+06  1.369765e+06  \n",
       "mean   1.918099e+00  2.477432e-01  5.505093e+11  \n",
       "std    2.597153e+00  1.672755e+00  2.597719e+11  \n",
       "min   -1.000000e+02 -3.112000e+01  1.000005e+11  \n",
       "25%    0.000000e+00  0.000000e+00  3.256927e+11  \n",
       "50%    1.860000e+00  0.000000e+00  5.506215e+11  \n",
       "75%    2.750000e+00  0.000000e+00  7.756135e+11  \n",
       "max    1.140440e+03  8.117500e+02  9.999999e+11  "
      ]
     },
     "execution_count": 22,
     "metadata": {},
     "output_type": "execute_result"
    }
   ],
   "source": [
    "#checking the statistics of the variables in the dataset\n",
    "df.describe()"
   ]
  },
  {
   "cell_type": "code",
   "execution_count": 23,
   "id": "179cb3bf",
   "metadata": {},
   "outputs": [],
   "source": [
    "#It looks like there are some missing values in the dataset since the count values are not the same for all columns. The minimum value for the passenger_count column is 0, which may not be possible for a taxi ride. Similarly, the fare_amount and tip_amount columns have negative values which may be incorrect. The RatecodeID column has a maximum value of 99, which is not within the expected range."
   ]
  },
  {
   "cell_type": "code",
   "execution_count": 24,
   "id": "38b45bd3",
   "metadata": {},
   "outputs": [],
   "source": [
    "#get an overview of the DataFrame"
   ]
  },
  {
   "cell_type": "code",
   "execution_count": 25,
   "id": "a136464c",
   "metadata": {},
   "outputs": [
    {
     "data": {
      "text/plain": [
       "<bound method DataFrame.info of          VendorID tpep_pickup_datetime tpep_dropoff_datetime  passenger_count  \\\n",
       "0             1.0  2021-01-01 00:30:10   2021-01-01 00:36:12              1.0   \n",
       "1             1.0  2021-01-01 00:51:20   2021-01-01 00:52:19              1.0   \n",
       "2             1.0  2021-01-01 00:43:30   2021-01-01 01:11:06              1.0   \n",
       "3             1.0  2021-01-01 00:15:48   2021-01-01 00:31:01              0.0   \n",
       "4             2.0  2021-01-01 00:31:49   2021-01-01 00:48:21              1.0   \n",
       "...           ...                  ...                   ...              ...   \n",
       "1369760       5.0  2021-01-25 08:32:04   2021-01-25 08:49:32              NaN   \n",
       "1369761       4.0  2021-01-25 08:34:00   2021-01-25 09:04:00              NaN   \n",
       "1369762       5.0  2021-01-25 08:37:00   2021-01-25 08:53:00              NaN   \n",
       "1369763       4.0  2021-01-25 08:28:00   2021-01-25 08:50:00              NaN   \n",
       "1369764       5.0  2021-01-25 08:38:00   2021-01-25 08:50:00              NaN   \n",
       "\n",
       "        trip_distance  RatecodeID store_and_fwd_flag  PULocationID  \\\n",
       "0                 2.1         1.0                  N           142   \n",
       "1                 0.2         1.0                  N           238   \n",
       "2                14.7         1.0                  N           132   \n",
       "3                10.6         1.0                  N           138   \n",
       "4                4.94         1.0                  N            68   \n",
       "...               ...         ...                ...           ...   \n",
       "1369760           8.8         NaN                NaN           135   \n",
       "1369761          5.86         NaN                NaN            42   \n",
       "1369762          4.45         NaN                NaN            14   \n",
       "1369763         10.04         NaN                NaN           175   \n",
       "1369764          4.93         NaN                NaN           248   \n",
       "\n",
       "         DOLocationID  payment_type  fare_amount  extra  mta_tax  tip_amount  \\\n",
       "0                  43           2.0         8.00   3.00      0.5        0.00   \n",
       "1                 151           2.0         3.00   0.50      0.5        0.00   \n",
       "2                 165           1.0        42.00   0.50      0.5        8.65   \n",
       "3                 132           1.0        29.00   0.50      0.5        6.05   \n",
       "4                  33           1.0        16.50   0.50      0.5        4.06   \n",
       "...               ...           ...          ...    ...      ...         ...   \n",
       "1369760            82           6.0        21.84   2.75      0.5        0.00   \n",
       "1369761           161           6.0        26.67   2.75      0.5        0.00   \n",
       "1369762           106           5.0        25.29   2.75      0.5        0.00   \n",
       "1369763           216           5.0        28.24   2.75      0.5        0.00   \n",
       "1369764           168           5.0        20.76   2.75      0.5        0.00   \n",
       "\n",
       "         tolls_amount        tripId  \n",
       "0                 0.0  559893529209  \n",
       "1                 0.0  993405808080  \n",
       "2                 0.0  267031741304  \n",
       "3                 0.0  355132875433  \n",
       "4                 0.0  603494714228  \n",
       "...               ...           ...  \n",
       "1369760           0.0  204125243754  \n",
       "1369761           0.0  511527970247  \n",
       "1369762           0.0  795487851532  \n",
       "1369763           0.0  550977006601  \n",
       "1369764           0.0  244977907136  \n",
       "\n",
       "[1369765 rows x 16 columns]>"
      ]
     },
     "execution_count": 25,
     "metadata": {},
     "output_type": "execute_result"
    }
   ],
   "source": [
    "df.info"
   ]
  },
  {
   "cell_type": "code",
   "execution_count": 26,
   "id": "bb38206e",
   "metadata": {},
   "outputs": [],
   "source": [
    "# checking for missing values"
   ]
  },
  {
   "cell_type": "code",
   "execution_count": 27,
   "id": "24c21384",
   "metadata": {
    "scrolled": true
   },
   "outputs": [
    {
     "data": {
      "text/plain": [
       "VendorID                     0\n",
       "tpep_pickup_datetime         0\n",
       "tpep_dropoff_datetime        0\n",
       "passenger_count          98352\n",
       "trip_distance                0\n",
       "RatecodeID               98352\n",
       "store_and_fwd_flag       98352\n",
       "PULocationID                 0\n",
       "DOLocationID                 0\n",
       "payment_type                 0\n",
       "fare_amount                  0\n",
       "extra                        0\n",
       "mta_tax                      0\n",
       "tip_amount                   0\n",
       "tolls_amount                 0\n",
       "tripId                       0\n",
       "dtype: int64"
      ]
     },
     "execution_count": 27,
     "metadata": {},
     "output_type": "execute_result"
    }
   ],
   "source": [
    "df.isnull().sum()"
   ]
  },
  {
   "cell_type": "code",
   "execution_count": 28,
   "id": "ac01de1e",
   "metadata": {},
   "outputs": [],
   "source": [
    "# replacing all null/missing values witheplace the missing values with the most frequent value in each column"
   ]
  },
  {
   "cell_type": "code",
   "execution_count": null,
   "id": "1570966a",
   "metadata": {},
   "outputs": [],
   "source": []
  },
  {
   "cell_type": "code",
   "execution_count": 29,
   "id": "a135a42f",
   "metadata": {},
   "outputs": [],
   "source": [
    "df['passenger_count'] = df['passenger_count'].fillna(df['passenger_count'].mode()[0]).astype('int')\n",
    "df['RatecodeID'] = df['RatecodeID'].fillna(df['RatecodeID'].mode()[0]).astype('int')\n",
    "\n",
    "\n"
   ]
  },
  {
   "cell_type": "code",
   "execution_count": 30,
   "id": "5bff62a8",
   "metadata": {},
   "outputs": [],
   "source": [
    "# for store _and_fwd_flag"
   ]
  },
  {
   "cell_type": "code",
   "execution_count": 31,
   "id": "d150c78f",
   "metadata": {},
   "outputs": [],
   "source": [
    "df['store_and_fwd_flag'] = df['store_and_fwd_flag'].fillna('N').astype('category')"
   ]
  },
  {
   "cell_type": "code",
   "execution_count": 32,
   "id": "733b6ce1",
   "metadata": {},
   "outputs": [],
   "source": [
    "# checkin missing values again"
   ]
  },
  {
   "cell_type": "code",
   "execution_count": 33,
   "id": "b506e79e",
   "metadata": {},
   "outputs": [],
   "source": [
    "# Checking data types"
   ]
  },
  {
   "cell_type": "code",
   "execution_count": 34,
   "id": "91a13059",
   "metadata": {},
   "outputs": [
    {
     "data": {
      "text/plain": [
       "VendorID                  float64\n",
       "tpep_pickup_datetime       object\n",
       "tpep_dropoff_datetime      object\n",
       "passenger_count             int32\n",
       "trip_distance              object\n",
       "RatecodeID                  int32\n",
       "store_and_fwd_flag       category\n",
       "PULocationID                int64\n",
       "DOLocationID                int64\n",
       "payment_type              float64\n",
       "fare_amount               float64\n",
       "extra                     float64\n",
       "mta_tax                   float64\n",
       "tip_amount                float64\n",
       "tolls_amount              float64\n",
       "tripId                      int64\n",
       "dtype: object"
      ]
     },
     "execution_count": 34,
     "metadata": {},
     "output_type": "execute_result"
    }
   ],
   "source": [
    "df.dtypes"
   ]
  },
  {
   "cell_type": "code",
   "execution_count": 35,
   "id": "4d21b71c",
   "metadata": {},
   "outputs": [
    {
     "data": {
      "text/plain": [
       "Index(['VendorID', 'tpep_pickup_datetime', 'tpep_dropoff_datetime',\n",
       "       'passenger_count', 'trip_distance', 'RatecodeID', 'store_and_fwd_flag',\n",
       "       'PULocationID', 'DOLocationID', 'payment_type', 'fare_amount', 'extra',\n",
       "       'mta_tax', 'tip_amount', 'tolls_amount', 'tripId'],\n",
       "      dtype='object')"
      ]
     },
     "execution_count": 35,
     "metadata": {},
     "output_type": "execute_result"
    }
   ],
   "source": [
    "df.columns"
   ]
  },
  {
   "cell_type": "code",
   "execution_count": 36,
   "id": "2e4e307c",
   "metadata": {},
   "outputs": [
    {
     "data": {
      "text/plain": [
       "PULocationID    int64\n",
       "DOLocationID    int64\n",
       "tripId          int64\n",
       "dtype: object"
      ]
     },
     "execution_count": 36,
     "metadata": {},
     "output_type": "execute_result"
    }
   ],
   "source": [
    "df.dtypes[df.dtypes == 'int64']"
   ]
  },
  {
   "cell_type": "code",
   "execution_count": 37,
   "id": "f809a6b7",
   "metadata": {},
   "outputs": [
    {
     "data": {
      "text/plain": [
       "VendorID        float64\n",
       "payment_type    float64\n",
       "fare_amount     float64\n",
       "extra           float64\n",
       "mta_tax         float64\n",
       "tip_amount      float64\n",
       "tolls_amount    float64\n",
       "dtype: object"
      ]
     },
     "execution_count": 37,
     "metadata": {},
     "output_type": "execute_result"
    }
   ],
   "source": [
    "df.dtypes[df.dtypes == 'float64']"
   ]
  },
  {
   "cell_type": "code",
   "execution_count": 38,
   "id": "9b82f4db",
   "metadata": {},
   "outputs": [
    {
     "data": {
      "text/plain": [
       "tpep_pickup_datetime     object\n",
       "tpep_dropoff_datetime    object\n",
       "trip_distance            object\n",
       "dtype: object"
      ]
     },
     "execution_count": 38,
     "metadata": {},
     "output_type": "execute_result"
    }
   ],
   "source": [
    "df.dtypes[df.dtypes == 'object']"
   ]
  },
  {
   "cell_type": "code",
   "execution_count": 39,
   "id": "cfecd2b6",
   "metadata": {},
   "outputs": [],
   "source": [
    "#removing 'km' so we can converttrip_distanceto numeric value"
   ]
  },
  {
   "cell_type": "code",
   "execution_count": 40,
   "id": "a1f08487",
   "metadata": {},
   "outputs": [],
   "source": [
    "df['trip_distance'] = df['trip_distance'].str.replace('km', '')"
   ]
  },
  {
   "cell_type": "code",
   "execution_count": 41,
   "id": "8fdaaf2e",
   "metadata": {},
   "outputs": [],
   "source": [
    "# Convert columns to appropriate data types"
   ]
  },
  {
   "cell_type": "code",
   "execution_count": 42,
   "id": "e7b9fdfa",
   "metadata": {},
   "outputs": [],
   "source": [
    "df['PULocationID'] = df['PULocationID'].astype('category')\n",
    "df['DOLocationID'] = df['DOLocationID'].astype('category')\n",
    "df['tripId'] = df['tripId'].astype('category')\n",
    "\n",
    "df['VendorID'] = df['VendorID'].astype('int')\n",
    "df['passenger_count'] = df['passenger_count'].astype('int')\n",
    "df['RatecodeID'] = df['RatecodeID'].astype('int')\n",
    "df['payment_type'] = df['payment_type'].astype('int')\n",
    "\n",
    "df['fare_amount'] = df['fare_amount'].astype('float')\n",
    "df['extra'] = df['extra'].astype('float')\n",
    "df['mta_tax'] = df['mta_tax'].astype('float')\n",
    "df['tip_amount'] = df['tip_amount'].astype('float')\n",
    "df['tolls_amount'] = df['tolls_amount'].astype('float')\n",
    "\n",
    "df['tpep_pickup_datetime'] = pd.to_datetime(df['tpep_pickup_datetime'])\n",
    "df['tpep_dropoff_datetime'] = pd.to_datetime(df['tpep_dropoff_datetime'])\n",
    "\n",
    "df['trip_distance'] = pd.to_numeric(df['trip_distance'])\n",
    "\n",
    "df['store_and_fwd_flag'] = df['store_and_fwd_flag'].astype('category')"
   ]
  },
  {
   "cell_type": "code",
   "execution_count": 43,
   "id": "5b3bf494",
   "metadata": {},
   "outputs": [],
   "source": [
    "# The tpep_pickup_datetime and tpep_dropoff_datetime need to be changed into datetime format. \n",
    "# The store and fwd flag need to be change into Category Format(Yes/no)."
   ]
  },
  {
   "cell_type": "code",
   "execution_count": 44,
   "id": "d4d57738",
   "metadata": {},
   "outputs": [
    {
     "data": {
      "text/plain": [
       "VendorID                          int32\n",
       "tpep_pickup_datetime     datetime64[ns]\n",
       "tpep_dropoff_datetime    datetime64[ns]\n",
       "passenger_count                   int32\n",
       "trip_distance                   float64\n",
       "RatecodeID                        int32\n",
       "store_and_fwd_flag             category\n",
       "PULocationID                   category\n",
       "DOLocationID                   category\n",
       "payment_type                      int32\n",
       "fare_amount                     float64\n",
       "extra                           float64\n",
       "mta_tax                         float64\n",
       "tip_amount                      float64\n",
       "tolls_amount                    float64\n",
       "tripId                         category\n",
       "dtype: object"
      ]
     },
     "execution_count": 44,
     "metadata": {},
     "output_type": "execute_result"
    }
   ],
   "source": [
    "df.dtypes"
   ]
  },
  {
   "cell_type": "code",
   "execution_count": 45,
   "id": "c9bb1d8a",
   "metadata": {},
   "outputs": [],
   "source": [
    "# expand the date time into weekday, month, hour, min, "
   ]
  },
  {
   "cell_type": "code",
   "execution_count": 46,
   "id": "3cfc7112",
   "metadata": {},
   "outputs": [],
   "source": [
    "df['tpep_pickup_datetime'] =pd.to_datetime(df['tpep_pickup_datetime'])"
   ]
  },
  {
   "cell_type": "code",
   "execution_count": 47,
   "id": "87b2c439",
   "metadata": {},
   "outputs": [],
   "source": [
    "df['tpep_dropoff_datetime'] =pd.to_datetime(df['tpep_dropoff_datetime'])"
   ]
  },
  {
   "cell_type": "code",
   "execution_count": 48,
   "id": "e3381206",
   "metadata": {},
   "outputs": [],
   "source": [
    "# extracting day of the week"
   ]
  },
  {
   "cell_type": "code",
   "execution_count": 49,
   "id": "5e79d2af",
   "metadata": {},
   "outputs": [],
   "source": [
    "df['pickup_day']= df['tpep_pickup_datetime'].dt.day_name()"
   ]
  },
  {
   "cell_type": "code",
   "execution_count": 50,
   "id": "ef016646",
   "metadata": {},
   "outputs": [],
   "source": [
    "df['dropoff_day']= df['tpep_dropoff_datetime'].dt.day_name()"
   ]
  },
  {
   "cell_type": "code",
   "execution_count": 51,
   "id": "f1a741b2",
   "metadata": {
    "scrolled": true
   },
   "outputs": [
    {
     "data": {
      "text/html": [
       "<div>\n",
       "<style scoped>\n",
       "    .dataframe tbody tr th:only-of-type {\n",
       "        vertical-align: middle;\n",
       "    }\n",
       "\n",
       "    .dataframe tbody tr th {\n",
       "        vertical-align: top;\n",
       "    }\n",
       "\n",
       "    .dataframe thead th {\n",
       "        text-align: right;\n",
       "    }\n",
       "</style>\n",
       "<table border=\"1\" class=\"dataframe\">\n",
       "  <thead>\n",
       "    <tr style=\"text-align: right;\">\n",
       "      <th></th>\n",
       "      <th>VendorID</th>\n",
       "      <th>tpep_pickup_datetime</th>\n",
       "      <th>tpep_dropoff_datetime</th>\n",
       "      <th>passenger_count</th>\n",
       "      <th>trip_distance</th>\n",
       "      <th>RatecodeID</th>\n",
       "      <th>store_and_fwd_flag</th>\n",
       "      <th>PULocationID</th>\n",
       "      <th>DOLocationID</th>\n",
       "      <th>payment_type</th>\n",
       "      <th>fare_amount</th>\n",
       "      <th>extra</th>\n",
       "      <th>mta_tax</th>\n",
       "      <th>tip_amount</th>\n",
       "      <th>tolls_amount</th>\n",
       "      <th>tripId</th>\n",
       "      <th>pickup_day</th>\n",
       "      <th>dropoff_day</th>\n",
       "    </tr>\n",
       "  </thead>\n",
       "  <tbody>\n",
       "    <tr>\n",
       "      <th>0</th>\n",
       "      <td>1</td>\n",
       "      <td>2021-01-01 00:30:10</td>\n",
       "      <td>2021-01-01 00:36:12</td>\n",
       "      <td>1</td>\n",
       "      <td>2.10</td>\n",
       "      <td>1</td>\n",
       "      <td>N</td>\n",
       "      <td>142</td>\n",
       "      <td>43</td>\n",
       "      <td>2</td>\n",
       "      <td>8.0</td>\n",
       "      <td>3.0</td>\n",
       "      <td>0.5</td>\n",
       "      <td>0.00</td>\n",
       "      <td>0.0</td>\n",
       "      <td>559893529209</td>\n",
       "      <td>Friday</td>\n",
       "      <td>Friday</td>\n",
       "    </tr>\n",
       "    <tr>\n",
       "      <th>1</th>\n",
       "      <td>1</td>\n",
       "      <td>2021-01-01 00:51:20</td>\n",
       "      <td>2021-01-01 00:52:19</td>\n",
       "      <td>1</td>\n",
       "      <td>0.20</td>\n",
       "      <td>1</td>\n",
       "      <td>N</td>\n",
       "      <td>238</td>\n",
       "      <td>151</td>\n",
       "      <td>2</td>\n",
       "      <td>3.0</td>\n",
       "      <td>0.5</td>\n",
       "      <td>0.5</td>\n",
       "      <td>0.00</td>\n",
       "      <td>0.0</td>\n",
       "      <td>993405808080</td>\n",
       "      <td>Friday</td>\n",
       "      <td>Friday</td>\n",
       "    </tr>\n",
       "    <tr>\n",
       "      <th>2</th>\n",
       "      <td>1</td>\n",
       "      <td>2021-01-01 00:43:30</td>\n",
       "      <td>2021-01-01 01:11:06</td>\n",
       "      <td>1</td>\n",
       "      <td>14.70</td>\n",
       "      <td>1</td>\n",
       "      <td>N</td>\n",
       "      <td>132</td>\n",
       "      <td>165</td>\n",
       "      <td>1</td>\n",
       "      <td>42.0</td>\n",
       "      <td>0.5</td>\n",
       "      <td>0.5</td>\n",
       "      <td>8.65</td>\n",
       "      <td>0.0</td>\n",
       "      <td>267031741304</td>\n",
       "      <td>Friday</td>\n",
       "      <td>Friday</td>\n",
       "    </tr>\n",
       "    <tr>\n",
       "      <th>3</th>\n",
       "      <td>1</td>\n",
       "      <td>2021-01-01 00:15:48</td>\n",
       "      <td>2021-01-01 00:31:01</td>\n",
       "      <td>0</td>\n",
       "      <td>10.60</td>\n",
       "      <td>1</td>\n",
       "      <td>N</td>\n",
       "      <td>138</td>\n",
       "      <td>132</td>\n",
       "      <td>1</td>\n",
       "      <td>29.0</td>\n",
       "      <td>0.5</td>\n",
       "      <td>0.5</td>\n",
       "      <td>6.05</td>\n",
       "      <td>0.0</td>\n",
       "      <td>355132875433</td>\n",
       "      <td>Friday</td>\n",
       "      <td>Friday</td>\n",
       "    </tr>\n",
       "    <tr>\n",
       "      <th>4</th>\n",
       "      <td>2</td>\n",
       "      <td>2021-01-01 00:31:49</td>\n",
       "      <td>2021-01-01 00:48:21</td>\n",
       "      <td>1</td>\n",
       "      <td>4.94</td>\n",
       "      <td>1</td>\n",
       "      <td>N</td>\n",
       "      <td>68</td>\n",
       "      <td>33</td>\n",
       "      <td>1</td>\n",
       "      <td>16.5</td>\n",
       "      <td>0.5</td>\n",
       "      <td>0.5</td>\n",
       "      <td>4.06</td>\n",
       "      <td>0.0</td>\n",
       "      <td>603494714228</td>\n",
       "      <td>Friday</td>\n",
       "      <td>Friday</td>\n",
       "    </tr>\n",
       "  </tbody>\n",
       "</table>\n",
       "</div>"
      ],
      "text/plain": [
       "   VendorID tpep_pickup_datetime tpep_dropoff_datetime  passenger_count  \\\n",
       "0         1  2021-01-01 00:30:10   2021-01-01 00:36:12                1   \n",
       "1         1  2021-01-01 00:51:20   2021-01-01 00:52:19                1   \n",
       "2         1  2021-01-01 00:43:30   2021-01-01 01:11:06                1   \n",
       "3         1  2021-01-01 00:15:48   2021-01-01 00:31:01                0   \n",
       "4         2  2021-01-01 00:31:49   2021-01-01 00:48:21                1   \n",
       "\n",
       "   trip_distance  RatecodeID store_and_fwd_flag PULocationID DOLocationID  \\\n",
       "0           2.10           1                  N          142           43   \n",
       "1           0.20           1                  N          238          151   \n",
       "2          14.70           1                  N          132          165   \n",
       "3          10.60           1                  N          138          132   \n",
       "4           4.94           1                  N           68           33   \n",
       "\n",
       "   payment_type  fare_amount  extra  mta_tax  tip_amount  tolls_amount  \\\n",
       "0             2          8.0    3.0      0.5        0.00           0.0   \n",
       "1             2          3.0    0.5      0.5        0.00           0.0   \n",
       "2             1         42.0    0.5      0.5        8.65           0.0   \n",
       "3             1         29.0    0.5      0.5        6.05           0.0   \n",
       "4             1         16.5    0.5      0.5        4.06           0.0   \n",
       "\n",
       "         tripId pickup_day dropoff_day  \n",
       "0  559893529209     Friday      Friday  \n",
       "1  993405808080     Friday      Friday  \n",
       "2  267031741304     Friday      Friday  \n",
       "3  355132875433     Friday      Friday  \n",
       "4  603494714228     Friday      Friday  "
      ]
     },
     "execution_count": 51,
     "metadata": {},
     "output_type": "execute_result"
    }
   ],
   "source": [
    "df.head()"
   ]
  },
  {
   "cell_type": "code",
   "execution_count": 52,
   "id": "7f1f1693",
   "metadata": {},
   "outputs": [],
   "source": [
    "# extracting day of the weekday"
   ]
  },
  {
   "cell_type": "code",
   "execution_count": 53,
   "id": "c6071dca",
   "metadata": {},
   "outputs": [],
   "source": [
    "df['pickup_day_num']= df['tpep_pickup_datetime'].dt.weekday"
   ]
  },
  {
   "cell_type": "code",
   "execution_count": 54,
   "id": "6bfbdc2e",
   "metadata": {},
   "outputs": [],
   "source": [
    "df['dropoff_day_num']= df['tpep_dropoff_datetime'].dt.weekday"
   ]
  },
  {
   "cell_type": "code",
   "execution_count": 55,
   "id": "323b2801",
   "metadata": {},
   "outputs": [],
   "source": [
    "# extracting month of the Year"
   ]
  },
  {
   "cell_type": "code",
   "execution_count": 56,
   "id": "eb724384",
   "metadata": {},
   "outputs": [],
   "source": [
    "df['pickup_month']= df['tpep_pickup_datetime'].dt.month_name()"
   ]
  },
  {
   "cell_type": "code",
   "execution_count": 57,
   "id": "f59182ba",
   "metadata": {},
   "outputs": [],
   "source": [
    "df['dropoff_month']= df['tpep_dropoff_datetime'].dt.month_name()"
   ]
  },
  {
   "cell_type": "code",
   "execution_count": 58,
   "id": "cd2a9a24",
   "metadata": {},
   "outputs": [],
   "source": [
    "# extracting hour, min"
   ]
  },
  {
   "cell_type": "code",
   "execution_count": 59,
   "id": "010fcb06",
   "metadata": {},
   "outputs": [],
   "source": [
    "df['pickup_hour']= df['tpep_pickup_datetime'].dt.hour"
   ]
  },
  {
   "cell_type": "code",
   "execution_count": 60,
   "id": "63f4af9e",
   "metadata": {},
   "outputs": [],
   "source": [
    "df['dropoff_hour']= df['tpep_dropoff_datetime'].dt.hour"
   ]
  },
  {
   "cell_type": "code",
   "execution_count": 61,
   "id": "008f028f",
   "metadata": {},
   "outputs": [],
   "source": [
    "df['pickup_min']= df['tpep_pickup_datetime'].dt.minute"
   ]
  },
  {
   "cell_type": "code",
   "execution_count": 62,
   "id": "8421f1e2",
   "metadata": {},
   "outputs": [],
   "source": [
    "df['dropoff_min']= df['tpep_dropoff_datetime'].dt.minute"
   ]
  },
  {
   "cell_type": "code",
   "execution_count": 63,
   "id": "fddea988",
   "metadata": {},
   "outputs": [],
   "source": [
    "#create a new column called trip_duration"
   ]
  },
  {
   "cell_type": "code",
   "execution_count": 64,
   "id": "77d3fd7b",
   "metadata": {},
   "outputs": [],
   "source": [
    "df['trip_duration'] = ((df['tpep_dropoff_datetime'] - df['tpep_pickup_datetime']).dt.total_seconds() / 60).round().astype(int)"
   ]
  },
  {
   "cell_type": "code",
   "execution_count": 65,
   "id": "af689e91",
   "metadata": {},
   "outputs": [
    {
     "data": {
      "text/plain": [
       "VendorID                          int32\n",
       "tpep_pickup_datetime     datetime64[ns]\n",
       "tpep_dropoff_datetime    datetime64[ns]\n",
       "passenger_count                   int32\n",
       "trip_distance                   float64\n",
       "RatecodeID                        int32\n",
       "store_and_fwd_flag             category\n",
       "PULocationID                   category\n",
       "DOLocationID                   category\n",
       "payment_type                      int32\n",
       "fare_amount                     float64\n",
       "extra                           float64\n",
       "mta_tax                         float64\n",
       "tip_amount                      float64\n",
       "tolls_amount                    float64\n",
       "tripId                         category\n",
       "pickup_day                       object\n",
       "dropoff_day                      object\n",
       "pickup_day_num                    int64\n",
       "dropoff_day_num                   int64\n",
       "pickup_month                     object\n",
       "dropoff_month                    object\n",
       "pickup_hour                       int64\n",
       "dropoff_hour                      int64\n",
       "pickup_min                        int64\n",
       "dropoff_min                       int64\n",
       "trip_duration                     int32\n",
       "dtype: object"
      ]
     },
     "execution_count": 65,
     "metadata": {},
     "output_type": "execute_result"
    }
   ],
   "source": [
    "df.dtypes"
   ]
  },
  {
   "cell_type": "code",
   "execution_count": 66,
   "id": "220740f9",
   "metadata": {},
   "outputs": [],
   "source": [
    "#drop un necessary columns"
   ]
  },
  {
   "cell_type": "code",
   "execution_count": 67,
   "id": "d6650454",
   "metadata": {},
   "outputs": [
    {
     "data": {
      "text/plain": [
       "7411"
      ]
     },
     "execution_count": 67,
     "metadata": {},
     "output_type": "execute_result"
    }
   ],
   "source": [
    "len(df[df['fare_amount'] <= 0])"
   ]
  },
  {
   "cell_type": "code",
   "execution_count": 68,
   "id": "b5e5bdc2",
   "metadata": {},
   "outputs": [],
   "source": [
    "df = df[df['fare_amount'] > 0]"
   ]
  },
  {
   "cell_type": "code",
   "execution_count": 69,
   "id": "641257d6",
   "metadata": {},
   "outputs": [
    {
     "data": {
      "text/plain": [
       "18968"
      ]
     },
     "execution_count": 69,
     "metadata": {},
     "output_type": "execute_result"
    }
   ],
   "source": [
    "len(df[df['trip_distance'] <= 0])"
   ]
  },
  {
   "cell_type": "code",
   "execution_count": 70,
   "id": "71214507",
   "metadata": {},
   "outputs": [],
   "source": [
    "# grouping by rate code ID"
   ]
  },
  {
   "cell_type": "code",
   "execution_count": 71,
   "id": "04b495ed",
   "metadata": {},
   "outputs": [
    {
     "data": {
      "text/plain": [
       "RatecodeID\n",
       "1      1.70\n",
       "2     18.40\n",
       "3     17.03\n",
       "4     16.26\n",
       "5      0.00\n",
       "6      0.00\n",
       "99     0.00\n",
       "Name: trip_distance, dtype: float64"
      ]
     },
     "execution_count": 71,
     "metadata": {},
     "output_type": "execute_result"
    }
   ],
   "source": [
    "df.groupby('RatecodeID')['trip_distance'].median()"
   ]
  },
  {
   "cell_type": "code",
   "execution_count": null,
   "id": "5ad73649",
   "metadata": {},
   "outputs": [],
   "source": []
  },
  {
   "cell_type": "code",
   "execution_count": null,
   "id": "468759ca",
   "metadata": {},
   "outputs": [],
   "source": []
  },
  {
   "cell_type": "code",
   "execution_count": null,
   "id": "a9ede88f",
   "metadata": {},
   "outputs": [],
   "source": []
  },
  {
   "cell_type": "code",
   "execution_count": 72,
   "id": "304cd400",
   "metadata": {},
   "outputs": [],
   "source": [
    "tip_by_vendor_day = df.groupby(['VendorID', 'pickup_day']).tip_amount.mean().reset_index()"
   ]
  },
  {
   "cell_type": "code",
   "execution_count": 73,
   "id": "a11517d3",
   "metadata": {},
   "outputs": [],
   "source": [
    "busiest_hour = df.tpep_pickup_datetime.dt.hour.value_counts().idxmax()"
   ]
  },
  {
   "cell_type": "code",
   "execution_count": 74,
   "id": "5d500828",
   "metadata": {},
   "outputs": [
    {
     "name": "stderr",
     "output_type": "stream",
     "text": [
      "C:\\Users\\sushd\\AppData\\Local\\Temp\\ipykernel_25168\\3006716147.py:1: SettingWithCopyWarning: \n",
      "A value is trying to be set on a copy of a slice from a DataFrame\n",
      "\n",
      "See the caveats in the documentation: https://pandas.pydata.org/pandas-docs/stable/user_guide/indexing.html#returning-a-view-versus-a-copy\n",
      "  df.drop_duplicates(inplace=True)\n"
     ]
    }
   ],
   "source": [
    "df.drop_duplicates(inplace=True)"
   ]
  },
  {
   "cell_type": "code",
   "execution_count": 75,
   "id": "c4959770",
   "metadata": {},
   "outputs": [
    {
     "name": "stderr",
     "output_type": "stream",
     "text": [
      "2023-05-01 22:51:03.708 \n",
      "  \u001b[33m\u001b[1mWarning:\u001b[0m to view this Streamlit app on a browser, run it with the following\n",
      "  command:\n",
      "\n",
      "    streamlit run C:\\Users\\sushd\\anaconda3\\lib\\site-packages\\ipykernel_launcher.py [ARGUMENTS]\n"
     ]
    },
    {
     "data": {
      "text/plain": [
       "DeltaGenerator(_root_container=0, _provided_cursor=None, _parent=None, _block_type=None, _form_data=None)"
      ]
     },
     "execution_count": 75,
     "metadata": {},
     "output_type": "execute_result"
    }
   ],
   "source": [
    " #classify trips by payment type\n",
    "payment_types = df['payment_type'].unique()\n",
    "trip_counts = df.groupby('payment_type').size().reset_index(name='count')\n",
    "total_distance = df.groupby('payment_type')['trip_distance'].sum().reset_index(name='total_distance')\n",
    "total_fare = df.groupby('payment_type')['fare_amount'].sum().reset_index(name='total_fare')\n",
    "average_tip = df.groupby('payment_type')['tip_amount'].mean().reset_index(name='average_tip')\n",
    "\n",
    "import altair as alt\n",
    "# create visualizations\n",
    "st.subheader('Payment Type Analysis')\n",
    "st.write('Total Trips by Payment Type:')\n",
    "bar_chart = alt.Chart(trip_counts).mark_bar().encode(\n",
    "    x='payment_type:N',\n",
    "    y='count:Q'\n",
    ").properties(width=400, height=300)\n",
    "st.altair_chart(bar_chart)\n",
    "\n",
    "st.write('Total Distance by Payment Type:')\n",
    "bar_chart2 = alt.Chart(total_distance).mark_bar().encode(\n",
    "    x='payment_type:N',\n",
    "    y='total_distance:Q'\n",
    ").properties(width=400, height=300)\n",
    "st.altair_chart(bar_chart2)\n",
    "\n",
    "st.write('Total Fare by Payment Type:')\n",
    "bar_chart3 = alt.Chart(total_fare).mark_bar().encode(\n",
    "    x='payment_type:N',\n",
    "    y='total_fare:Q'\n",
    ").properties(width=400, height=300)\n",
    "st.altair_chart(bar_chart3)\n",
    "\n",
    "st.write('Average Tip by Payment Type:')\n",
    "bar_chart4 = alt.Chart(average_tip).mark_bar().encode(\n",
    "    x='payment_type:N',\n",
    "    y='average_tip:Q'\n",
    ").properties(width=400, height=300)\n",
    "st.altair_chart(bar_chart4)"
   ]
  },
  {
   "cell_type": "code",
   "execution_count": 76,
   "id": "1a9bf5d6",
   "metadata": {},
   "outputs": [
    {
     "data": {
      "text/plain": [
       "DeltaGenerator(_root_container=0, _provided_cursor=None, _parent=None, _block_type=None, _form_data=None)"
      ]
     },
     "execution_count": 76,
     "metadata": {},
     "output_type": "execute_result"
    }
   ],
   "source": [
    "import altair as alt\n",
    "\n",
    "# Calculate average tip by vendor and day\n",
    "average_tip_by_vendor_and_day = df.groupby(['VendorID', 'pickup_day'])['tip_amount'].mean().reset_index()\n",
    "\n",
    "# Create a grouped bar chart using Altair\n",
    "chart5 = alt.Chart(average_tip_by_vendor_and_day).mark_bar().encode(\n",
    "    x=alt.X('pickup_day:N', title='Day of Week'),\n",
    "    y=alt.Y('tip_amount:Q', title='Average Tip Amount'),\n",
    "    color=alt.Color('VendorID:N', title='Vendor ID'),\n",
    ").properties(\n",
    "    title='Average Tip Amount by Vendor and Day'\n",
    ")\n",
    "\n",
    "st.altair_chart(chart5, use_container_width=True)"
   ]
  },
  {
   "cell_type": "code",
   "execution_count": 77,
   "id": "ae56ada4",
   "metadata": {},
   "outputs": [
    {
     "data": {
      "text/plain": [
       "DeltaGenerator(_root_container=0, _provided_cursor=None, _parent=None, _block_type=None, _form_data=None)"
      ]
     },
     "execution_count": 77,
     "metadata": {},
     "output_type": "execute_result"
    }
   ],
   "source": [
    "# Aggregate data by hour of the day\n",
    "trips_by_hour = df.groupby('pickup_hour')['tripId'].count()\n",
    "\n",
    "# Plot a bar chart\n",
    "chart6, ax = plt.subplots()\n",
    "ax.bar(trips_by_hour.index, trips_by_hour.values)\n",
    "\n",
    "# Set chart title and labels\n",
    "ax.set_title('Number of Trips by Hour of the Day')\n",
    "ax.set_xlabel('Hour of the Day')\n",
    "ax.set_ylabel('Number of Trips')\n",
    "\n",
    "# Display the chart in Streamlit\n",
    "st.pyplot(chart6)\n"
   ]
  },
  {
   "cell_type": "code",
   "execution_count": 78,
   "id": "990e20ed",
   "metadata": {},
   "outputs": [
    {
     "name": "stdout",
     "output_type": "stream",
     "text": [
      "   VendorID tpep_pickup_datetime tpep_dropoff_datetime  passenger_count  \\\n",
      "0         1  2021-01-01 00:30:10   2021-01-01 00:36:12                1   \n",
      "1         1  2021-01-01 00:51:20   2021-01-01 00:52:19                1   \n",
      "2         1  2021-01-01 00:43:30   2021-01-01 01:11:06                1   \n",
      "3         1  2021-01-01 00:15:48   2021-01-01 00:31:01                0   \n",
      "4         2  2021-01-01 00:31:49   2021-01-01 00:48:21                1   \n",
      "\n",
      "   trip_distance  RatecodeID store_and_fwd_flag PULocationID DOLocationID  \\\n",
      "0           2.10           1                  N          142           43   \n",
      "1           0.20           1                  N          238          151   \n",
      "2          14.70           1                  N          132          165   \n",
      "3          10.60           1                  N          138          132   \n",
      "4           4.94           1                  N           68           33   \n",
      "\n",
      "   payment_type  ...  dropoff_day_num  pickup_month  dropoff_month  \\\n",
      "0             2  ...                4       January        January   \n",
      "1             2  ...                4       January        January   \n",
      "2             1  ...                4       January        January   \n",
      "3             1  ...                4       January        January   \n",
      "4             1  ...                4       January        January   \n",
      "\n",
      "   pickup_hour  dropoff_hour  pickup_min dropoff_min trip_duration  \\\n",
      "0            0             0          30          36             6   \n",
      "1            0             0          51          52             1   \n",
      "2            0             1          43          11            28   \n",
      "3            0             0          15          31            15   \n",
      "4            0             0          31          48            17   \n",
      "\n",
      "   improvement_surcharge  congestion_surcharge  \n",
      "0                    0.3                   2.5  \n",
      "1                    0.3                   0.0  \n",
      "2                    0.3                   0.0  \n",
      "3                    0.3                   0.0  \n",
      "4                    0.3                   2.5  \n",
      "\n",
      "[5 rows x 29 columns]\n"
     ]
    }
   ],
   "source": [
    "# Rename the column in the JSON DataFrame to match the column in the CSV DataFrame\n",
    "surcharge_df = surcharge_df.rename(columns={'tripId': 'tripId'})\n",
    "\n",
    "# Merge the JSON DataFrame with the CSV DataFrame using the 'tripId' column as the key\n",
    "df_merged = pd.merge(df, surcharge_df, on='tripId', how='left')\n",
    "\n",
    "# View the merged DataFrame\n",
    "print(df_merged.head())\n"
   ]
  },
  {
   "cell_type": "code",
   "execution_count": 79,
   "id": "3a628da1",
   "metadata": {},
   "outputs": [
    {
     "data": {
      "text/plain": [
       "Index(['VendorID', 'tpep_pickup_datetime', 'tpep_dropoff_datetime',\n",
       "       'passenger_count', 'trip_distance', 'RatecodeID', 'store_and_fwd_flag',\n",
       "       'PULocationID', 'DOLocationID', 'payment_type', 'fare_amount', 'extra',\n",
       "       'mta_tax', 'tip_amount', 'tolls_amount', 'tripId', 'pickup_day',\n",
       "       'dropoff_day', 'pickup_day_num', 'dropoff_day_num', 'pickup_month',\n",
       "       'dropoff_month', 'pickup_hour', 'dropoff_hour', 'pickup_min',\n",
       "       'dropoff_min', 'trip_duration'],\n",
       "      dtype='object')"
      ]
     },
     "execution_count": 79,
     "metadata": {},
     "output_type": "execute_result"
    }
   ],
   "source": [
    "df.columns"
   ]
  },
  {
   "cell_type": "code",
   "execution_count": 80,
   "id": "54866ea6",
   "metadata": {},
   "outputs": [
    {
     "name": "stdout",
     "output_type": "stream",
     "text": [
      "Index(['VendorID', 'tpep_pickup_datetime', 'tpep_dropoff_datetime',\n",
      "       'passenger_count', 'trip_distance', 'RatecodeID', 'store_and_fwd_flag',\n",
      "       'PULocationID', 'DOLocationID', 'payment_type', 'fare_amount', 'extra',\n",
      "       'mta_tax', 'tip_amount', 'tolls_amount', 'tripId', 'pickup_day',\n",
      "       'dropoff_day', 'pickup_day_num', 'dropoff_day_num', 'pickup_month',\n",
      "       'dropoff_month', 'pickup_hour', 'dropoff_hour', 'pickup_min',\n",
      "       'dropoff_min', 'trip_duration'],\n",
      "      dtype='object')\n",
      "Index(['tripId', 'improvement_surcharge', 'congestion_surcharge'], dtype='object')\n"
     ]
    }
   ],
   "source": [
    "print(df.columns)\n",
    "print(surcharge_df.columns)\n"
   ]
  },
  {
   "cell_type": "code",
   "execution_count": 81,
   "id": "a780d7d3",
   "metadata": {},
   "outputs": [],
   "source": [
    "# Merge the two DataFrames based on 'tripId'\n",
    "df = pd.merge(df, surcharge_df, on='tripId', how='left')\n",
    "df['total_surcharge'] = df['improvement_surcharge'] + df['congestion_surcharge']"
   ]
  },
  {
   "cell_type": "code",
   "execution_count": 82,
   "id": "ab9b1c45",
   "metadata": {},
   "outputs": [],
   "source": [
    "# chart to find the relation between congestion surcharge and trip distance"
   ]
  },
  {
   "cell_type": "code",
   "execution_count": 83,
   "id": "c9b4469c",
   "metadata": {},
   "outputs": [
    {
     "data": {
      "text/plain": [
       "DeltaGenerator(_root_container=0, _provided_cursor=None, _parent=None, _block_type=None, _form_data=None)"
      ]
     },
     "execution_count": 83,
     "metadata": {},
     "output_type": "execute_result"
    }
   ],
   "source": [
    "import altair as alt\n",
    "\n",
    "# Get the data\n",
    "x = df['trip_distance']\n",
    "y = df['congestion_surcharge']\n",
    "\n",
    "# Create the scatter plot\n",
    "chart7 = alt.Chart(df).mark_circle().encode(\n",
    "    x=alt.X('trip_distance', title='Trip Distance'),\n",
    "    y=alt.Y('congestion_surcharge', title='Congestion Surcharge'),\n",
    "    tooltip=['trip_distance', 'congestion_surcharge']\n",
    ").properties(title='Relationship between Congestion Surcharge and Trip Distance', width=600, height=400)\n",
    "\n",
    "# Display the chart in Streamlit\n",
    "st.altair_chart(chart7, use_container_width=True)\n"
   ]
  },
  {
   "cell_type": "code",
   "execution_count": 84,
   "id": "fc2a76ed",
   "metadata": {},
   "outputs": [],
   "source": [
    "# busiest day of the week"
   ]
  },
  {
   "cell_type": "code",
   "execution_count": 85,
   "id": "53d40a04",
   "metadata": {},
   "outputs": [
    {
     "name": "stderr",
     "output_type": "stream",
     "text": [
      "2023-05-01 22:51:10.423 Using categorical units to plot a list of strings that are all parsable as floats or dates. If these strings should be plotted as numbers, cast to the appropriate data type before plotting.\n",
      "2023-05-01 22:51:10.425 Using categorical units to plot a list of strings that are all parsable as floats or dates. If these strings should be plotted as numbers, cast to the appropriate data type before plotting.\n"
     ]
    },
    {
     "data": {
      "text/plain": [
       "Text(0.5, 1.0, 'Busiest Day of the Week')"
      ]
     },
     "execution_count": 85,
     "metadata": {},
     "output_type": "execute_result"
    }
   ],
   "source": [
    "plt.figure(figsize=(18, 7))\n",
    "plt.bar(df['pickup_day'].value_counts().index, df['pickup_day'].value_counts().values)\n",
    "plt.ylabel('Count')\n",
    "plt.xlabel('Day of the Week')\n",
    "plt.title('Busiest Day of the Week')"
   ]
  },
  {
   "cell_type": "code",
   "execution_count": 86,
   "id": "c3465720",
   "metadata": {},
   "outputs": [],
   "source": [
    "# busiest hour "
   ]
  },
  {
   "cell_type": "code",
   "execution_count": 87,
   "id": "cf4c38f7",
   "metadata": {},
   "outputs": [
    {
     "data": {
      "text/plain": [
       "Text(0.5, 0, 'Hour of Day')"
      ]
     },
     "execution_count": 87,
     "metadata": {},
     "output_type": "execute_result"
    }
   ],
   "source": [
    "plt.figure(figsize=(18, 7))\n",
    "sns.countplot(x=df['tpep_pickup_datetime'].dt.hour, color='goldenrod')\n",
    "plt.ylabel('Number of Trips')\n",
    "plt.xlabel('Hour of Day')\n"
   ]
  },
  {
   "cell_type": "code",
   "execution_count": 88,
   "id": "4097e225",
   "metadata": {},
   "outputs": [
    {
     "name": "stdout",
     "output_type": "stream",
     "text": [
      "0\n",
      "['Friday' 'Thursday' 'Saturday' 'Monday' 'Sunday' 'Tuesday' 'Wednesday']\n"
     ]
    }
   ],
   "source": [
    "print(df['pickup_day'].isnull().sum())\n",
    "print(df['pickup_day'].unique())\n"
   ]
  },
  {
   "cell_type": "code",
   "execution_count": null,
   "id": "cb17b2a7",
   "metadata": {},
   "outputs": [],
   "source": []
  }
 ],
 "metadata": {
  "kernelspec": {
   "display_name": "Python 3 (ipykernel)",
   "language": "python",
   "name": "python3"
  },
  "language_info": {
   "codemirror_mode": {
    "name": "ipython",
    "version": 3
   },
   "file_extension": ".py",
   "mimetype": "text/x-python",
   "name": "python",
   "nbconvert_exporter": "python",
   "pygments_lexer": "ipython3",
   "version": "3.9.13"
  }
 },
 "nbformat": 4,
 "nbformat_minor": 5
}
